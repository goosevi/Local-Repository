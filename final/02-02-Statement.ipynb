{
 "cells": [
  {
   "cell_type": "markdown",
   "metadata": {},
   "source": [
    "# <center> Statement"
   ]
  },
  {
   "cell_type": "markdown",
   "metadata": {},
   "source": [
    "<img src=\"https://drive.google.com/uc?id=111GIa1-kzbDoYfZwMCjRgtyPO5QCZWQT\" width=100 align=right>"
   ]
  },
  {
   "cell_type": "markdown",
   "metadata": {},
   "source": [
    "<div align=\"right\">จิโรจ ทองศรีเปล่ง<br>รหัสนักศึกษา 1710511104008</div>"
   ]
  },
  {
   "cell_type": "markdown",
   "metadata": {},
   "source": [
    "**ลำดับขั้นของไพธอน(The Python Conceptual Hierarchy)**\n",
    "\n",
    "1. Programs are composed of modules.\n",
    "2. Modules contain statements.\n",
    "3. Statements contain expressions.\n",
    "4. Expressions create and process objects."
   ]
  },
  {
   "cell_type": "markdown",
   "metadata": {},
   "source": [
    "## Python Statement"
   ]
  },
  {
   "cell_type": "markdown",
   "metadata": {},
   "source": [
    "<table>\n",
    "        <tr>\n",
    "                <td><div align=center><b>Statement</b></div>\n",
    "                <td><div align=center><b>หน้าที่ (Role) </b></div>\n",
    "                <td><div align=center><b>ตัวอย่าง (Example) </b></div>\n",
    "        <tr>\n",
    "                <td>Assignment การให้ค่า\n",
    "                <td>Creating references สร้างชี้ไปที่ค่า\n",
    "                <td><pre>a , b = 'good','bad'</pre> <br>\n",
    "                        <div align=center> ทางขวามือเรียกว่า Literals</div>\n",
    "        <tr>\n",
    "                <td><div align=center>Calls and other expressions</div>\n",
    "                <td><div align=center>Running functions</div>\n",
    "                <td><div align=left>log.write(\"spam, ham\")</div>\n",
    "        <tr>\n",
    "                <td><div align=center>print calls</div>\n",
    "                <td><div align=center>Printing objects</div>\n",
    "                <td><div align=left>print('The Killer', joke)</div>\n",
    "        <tr>\n",
    "                <td><div align=center>if/elif/else</div>\n",
    "                <td><div align=center>Selecting actions</div>\n",
    "                 <td><div align=left>if \"python\" in text:</div>\n",
    "                         <div align=center>print(text)</div>\n",
    "        <tr>\n",
    "                <td><div align=center>for/else</div>\n",
    "                <td><div align=center>Iteration</div>\n",
    "                 <td><div align=left>for x in mylist:</div>\n",
    "                         <div align=center>print(x)</div>\n",
    "        <tr>\n",
    "                <td><div align=center>while/else</div>\n",
    "                <td><div align=center>General loops</div>\n",
    "                 <td><div align=left>while X > Y:</div>\n",
    "                         <div align=center>print('hello')</div>\n",
    "        <tr>\n",
    "                <td><div align=center>pass</div>\n",
    "                <td><div align=center>Empty placeholder</div>\n",
    "                 <td><div align=left>while True:</div>\n",
    "                         <div align=center>pass</div>  \n",
    "        <tr>\n",
    "                <td><div align=center>break</div>\n",
    "                <td><div align=center>Loop exit</div>\n",
    "                 <td><div align=left>while True:</div>\n",
    "                         <div align=center>if exittest(): break</div>  \n",
    "        <tr>\n",
    "                <td><div align=center>continue</div>\n",
    "                <td><div align=center>Loop continue</div>\n",
    "                 <td><div align=left>while True:</div>\n",
    "                         <div align=center>if skiptest(): continue</div>  \n",
    "        <tr>\n",
    "                <td><div align=center>def</div>\n",
    "                <td><div align=center>Functions and methods</div>\n",
    "                 <td><div align=left>def f(a, b, c=1, *d):</div>\n",
    "                         <div align=center>print(a+b+c+d[0])</div>  \n",
    "        <tr>\n",
    "                <td><div align=center>return</div>\n",
    "                <td><div align=center>Functions results</div>\n",
    "                 <td><div align=left>def f(a, b, c=1, *d):</div>\n",
    "                         <div align=center>return a+b+c+d[0]</div>\n",
    "        <tr>\n",
    "                <td><div align=center>yield</div>\n",
    "                <td><div align=center>Generator functions</div>\n",
    "                 <td><div align=left>def gen(n):</div>\n",
    "                         <div align=center>for i in n: yield i*2</div> \n",
    "        <tr>\n",
    "                <td><div align=center>global</div>\n",
    "                <td><div align=center>Namespaces</div>\n",
    "                <td><div align=left>x = 'old'</div>\n",
    "                        <div align=left>def function():</div>\n",
    "                         <div align=center>global x, y; x = 'new'</div> \n",
    "         <tr>\n",
    "                <td><div align=center>nonlocal</div>\n",
    "                <td><div align=center>Namespaces (3.X)</div>\n",
    "                 <td><div align=left>def outer():</div>\n",
    "                         <div align=center>x = 'old'</div> \n",
    "                         <div align=center>def function():</div> \n",
    "                         <div align=right>nonlocal x; x = 'new'</div>\n",
    "         <tr>\n",
    "                <td><div align=center>import</div>\n",
    "                <td><div align=center>Module access</div>\n",
    "                <td><div align=left>import sys</div>\n",
    "         <tr>\n",
    "                <td><div align=center>from</div>\n",
    "                <td><div align=center>Attribute access</div>\n",
    "                <td><div align=left>from sys import stdin</div>\n",
    "        <tr>\n",
    "                <td><div align=center>class</div>\n",
    "                <td><div align=center>Building objects</div>\n",
    "                 <td><div align=left>class Subclass(Superclass):</div>\n",
    "                         <div align=center>staticData = []</div> \n",
    "                         <div align=center>def method(self): pass</div> \n",
    "        <tr>\n",
    "                <td><div align=center>try/except/ finally</div>\n",
    "                <td><div align=center>Catching exceptions</div>\n",
    "                 <td><div align=left>try:</div>\n",
    "                         <div align=center>action()</div> \n",
    "                         <div align=left>except:</div>\n",
    "                         <div align=center>print('action error')</div>\n",
    "        <tr>\n",
    "                <td><div align=center>raise</div>\n",
    "                <td><div align=center>Triggering exceptions</div>\n",
    "                <td><div align=left>raise EndSearch(location)</div>\n",
    "        <tr>\n",
    "                <td><div align=center>assert</div>\n",
    "                <td><div align=center>Debugging checks</div>\n",
    "                <td><div align=left>assert X > Y, 'X too small'</div>\n",
    "        <tr>\n",
    "                <td><div align=center>with/as</div>\n",
    "                <td><div align=center>Context managers (3.X, 2.6+)</div>\n",
    "                 <td><div align=left>with open('data') as myfile:</div>\n",
    "                         <div align=center>process(myfile)</div>\n",
    "         <tr>\n",
    "                <td><div align=center>del</div>\n",
    "                <td><div align=center>Deleting references</div>\n",
    "                 <td><div align=left>del data[k]</div>\n",
    "                         <div align=left>del data[i:j]</div>\n",
    "                         <div align=left>del obj.attr</div>\n",
    "                         <div align=left>del variable</div>\n",
    "    </table>"
   ]
  },
  {
   "cell_type": "markdown",
   "metadata": {},
   "source": [
    "Statement บน Python มีลักษณะสำคัญ\n",
    "\n",
    "1. ใช้กั้นหน้า (Indent) บอก Statement ระดับของกั้นหน้า ตามเครื่องหมายทวิภาค (:)\n",
    "2. หลีกเลี่ยงการใช้วงเล็บ \"( )\" วงเล็บใช้กับตัวเก็บ (Container) แบบ Tuple\n"
   ]
  },
  {
   "cell_type": "code",
   "execution_count": 1,
   "metadata": {},
   "outputs": [
    {
     "ename": "SyntaxError",
     "evalue": "invalid syntax (<ipython-input-1-e6cdd1e0fe34>, line 1)",
     "output_type": "error",
     "traceback": [
      "\u001b[1;36m  File \u001b[1;32m\"<ipython-input-1-e6cdd1e0fe34>\"\u001b[1;36m, line \u001b[1;32m1\u001b[0m\n\u001b[1;33m    :\u001b[0m\n\u001b[1;37m    ^\u001b[0m\n\u001b[1;31mSyntaxError\u001b[0m\u001b[1;31m:\u001b[0m invalid syntax\n"
     ]
    }
   ],
   "source": [
    ":\n",
    "    :\n",
    "        :\n",
    "            :\n",
    "                "
   ]
  },
  {
   "cell_type": "markdown",
   "metadata": {},
   "source": [
    "กั้นหน้าทำให้ Code ของ Python อ่านง่าย ทำให้ Python เป็นที่นิยมใช้กันทั่วไป"
   ]
  },
  {
   "cell_type": "markdown",
   "metadata": {},
   "source": [
    "## The Assignment Statement"
   ]
  },
  {
   "cell_type": "markdown",
   "metadata": {},
   "source": [
    "<pre>\n",
    "<i>\n",
    "    target = expression\n",
    "target1 = target2 = expression\n",
    "target1, target2 = expression1, expression2\n",
    "target1 += expression\n",
    "<br>\n",
    "target1, target2, ... = same-length-iterable\n",
    "(target1, target2, ...) = same-length-iterable\n",
    "[target1, target2, ...] = same-length-iterable\n",
    "target1, *target2, ... = matching-length-iterable\n",
    "</br>"
   ]
  },
  {
   "cell_type": "markdown",
   "metadata": {},
   "source": [
    "## Sequence Assignments"
   ]
  },
  {
   "cell_type": "code",
   "execution_count": null,
   "metadata": {},
   "outputs": [],
   "source": [
    "nudge = 1                                 # Basic assignment\n",
    "wink = 2\n",
    "A, B = nudge, wink                    # Tuple assignment\n",
    "A, B"
   ]
  },
  {
   "cell_type": "code",
   "execution_count": null,
   "metadata": {},
   "outputs": [],
   "source": [
    "[C, D] = [nudge, wink]               # List assignment\n",
    "C, D"
   ]
  },
  {
   "cell_type": "code",
   "execution_count": null,
   "metadata": {},
   "outputs": [],
   "source": [
    "''' การสลับค่า '''\n",
    "\n",
    "nudge = 1\n",
    "wink = 2\n",
    "nudge, wink = wink, nudge        # Tuples: swaps values\n",
    "nudge, wink                              # Like T = nudge; nudge = wink; wink = T"
   ]
  },
  {
   "cell_type": "code",
   "execution_count": null,
   "metadata": {},
   "outputs": [],
   "source": [
    "[a, b, c] = (1, 2, 3)                    # Assign tuple of values to list of names\n",
    "a, c"
   ]
  },
  {
   "cell_type": "code",
   "execution_count": null,
   "metadata": {},
   "outputs": [],
   "source": [
    "(a, b, c) = \"ABC\"                       # Assign string of characters to tuple\n",
    "a, c"
   ]
  },
  {
   "cell_type": "code",
   "execution_count": null,
   "metadata": {},
   "outputs": [],
   "source": []
  }
 ],
 "metadata": {
  "kernelspec": {
   "display_name": "Python 3",
   "language": "python",
   "name": "python3"
  },
  "language_info": {
   "codemirror_mode": {
    "name": "ipython",
    "version": 3
   },
   "file_extension": ".py",
   "mimetype": "text/x-python",
   "name": "python",
   "nbconvert_exporter": "python",
   "pygments_lexer": "ipython3",
   "version": "3.9.2"
  }
 },
 "nbformat": 4,
 "nbformat_minor": 4
}
